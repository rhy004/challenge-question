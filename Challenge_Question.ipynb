{
  "nbformat": 4,
  "nbformat_minor": 0,
  "metadata": {
    "colab": {
      "provenance": [],
      "authorship_tag": "ABX9TyMHhOTyMKr9lBE3Nu8mgjdw",
      "include_colab_link": true
    },
    "kernelspec": {
      "name": "python3",
      "display_name": "Python 3"
    },
    "language_info": {
      "name": "python"
    }
  },
  "cells": [
    {
      "cell_type": "markdown",
      "metadata": {
        "id": "view-in-github",
        "colab_type": "text"
      },
      "source": [
        "<a href=\"https://colab.research.google.com/github/rhy004/challenge-question/blob/main/Challenge_Question.ipynb\" target=\"_parent\"><img src=\"https://colab.research.google.com/assets/colab-badge.svg\" alt=\"Open In Colab\"/></a>"
      ]
    },
    {
      "cell_type": "code",
      "execution_count": null,
      "metadata": {
        "id": "7IYbfMc6fJmo"
      },
      "outputs": [],
      "source": [
        "# Write a python program to sort the list of heterogeneous data.\n",
        "# e.g.\n",
        "# L = [\"Ram\", 1, \"Shyam\", 2, \"Aman\", 3]\n",
        "# print(L)\n",
        "# L.sort()\n",
        "# print(L)\n",
        "# Above code gives error. Correct it."
      ]
    },
    {
      "cell_type": "code",
      "source": [
        "L=[\"Ram\", 1, \"Shyam\", 2, \"Aman\", 3]\n",
        "print(L)"
      ],
      "metadata": {
        "colab": {
          "base_uri": "https://localhost:8080/"
        },
        "id": "QJ8DXSdPfWcj",
        "outputId": "dde6ecca-e2f3-4c6b-ac31-74c0f18cbe3b"
      },
      "execution_count": 1,
      "outputs": [
        {
          "output_type": "stream",
          "name": "stdout",
          "text": [
            "['Ram', 1, 'Shyam', 2, 'Aman', 3]\n"
          ]
        }
      ]
    },
    {
      "cell_type": "code",
      "source": [
        "L = set(L)\n",
        "print(L)"
      ],
      "metadata": {
        "colab": {
          "base_uri": "https://localhost:8080/"
        },
        "id": "sj_MILa_f2kr",
        "outputId": "de2e4332-63d6-44c3-b2b8-e6e3db409b09"
      },
      "execution_count": 3,
      "outputs": [
        {
          "output_type": "stream",
          "name": "stdout",
          "text": [
            "{1, 'Shyam', 2, 3, 'Ram', 'Aman'}\n"
          ]
        }
      ]
    },
    {
      "cell_type": "code",
      "source": [
        "L.sort()\n",
        "print(L)"
      ],
      "metadata": {
        "colab": {
          "base_uri": "https://localhost:8080/",
          "height": 182
        },
        "id": "UXn68LZjgeNp",
        "outputId": "f6252024-4620-4d94-f87a-f7c3077e6dc5"
      },
      "execution_count": 6,
      "outputs": [
        {
          "output_type": "error",
          "ename": "AttributeError",
          "evalue": "ignored",
          "traceback": [
            "\u001b[0;31m---------------------------------------------------------------------------\u001b[0m",
            "\u001b[0;31mAttributeError\u001b[0m                            Traceback (most recent call last)",
            "\u001b[0;32m<ipython-input-6-91ba3fa08a66>\u001b[0m in \u001b[0;36m<cell line: 1>\u001b[0;34m()\u001b[0m\n\u001b[0;32m----> 1\u001b[0;31m \u001b[0mL\u001b[0m\u001b[0;34m.\u001b[0m\u001b[0msort\u001b[0m\u001b[0;34m(\u001b[0m\u001b[0;34m)\u001b[0m\u001b[0;34m\u001b[0m\u001b[0;34m\u001b[0m\u001b[0m\n\u001b[0m\u001b[1;32m      2\u001b[0m \u001b[0mprint\u001b[0m\u001b[0;34m(\u001b[0m\u001b[0mL\u001b[0m\u001b[0;34m)\u001b[0m\u001b[0;34m\u001b[0m\u001b[0;34m\u001b[0m\u001b[0m\n",
            "\u001b[0;31mAttributeError\u001b[0m: 'set' object has no attribute 'sort'"
          ]
        }
      ]
    },
    {
      "cell_type": "code",
      "source": [
        "L = [str(i) for i in L]\n",
        "print(L)\n",
        "L.sort()\n",
        "print(L)"
      ],
      "metadata": {
        "colab": {
          "base_uri": "https://localhost:8080/"
        },
        "id": "YWHeHMk2giBx",
        "outputId": "8be19f30-5ba0-4cd7-8628-b131f4aa1686"
      },
      "execution_count": 7,
      "outputs": [
        {
          "output_type": "stream",
          "name": "stdout",
          "text": [
            "['1', 'Shyam', '2', '3', 'Ram', 'Aman']\n",
            "['1', '2', '3', 'Aman', 'Ram', 'Shyam']\n"
          ]
        }
      ]
    }
  ]
}